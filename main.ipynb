{
 "cells": [
  {
   "attachments": {},
   "cell_type": "markdown",
   "metadata": {},
   "source": [
    "### Step 2.1: Rename downloaded files (cleaning up titles) and put in a subdirectory for cleaned up titles for both caption and full_text files\n",
    "from file cleaning-titles.ipynb"
   ]
  },
  {
   "cell_type": "code",
   "execution_count": null,
   "metadata": {},
   "outputs": [],
   "source": [
    "import unicodedata\n",
    "import re\n",
    "import glob\n",
    "import shutil\n",
    "from slugify import slugify\n",
    "import os\n",
    "\n",
    "def create_clean_title(main_dir, extension=\".vtt\"):\n",
    "    clean_dir = main_dir+\"clean/\"\n",
    "    if not os.path.exists(clean_dir):\n",
    "        os.makedirs(clean_dir)\n",
    "        \n",
    "    for file_name in glob.glob(r'{}*{}'.format(main_dir, extension)):\n",
    "        clean = file_name.split(\"\\\\\")[-1].split(\".\")[0]\n",
    "        new_file_name = slugify(clean)\n",
    "        dest = clean_dir+new_file_name+extension\n",
    "        print(clean, \"\\n\", new_file_name, \"\\n\", dest, \"\\n\")\n",
    "        shutil.copy2(file_name, dest)\n",
    "    print(\"==================================================\")\n",
    "    print(\"DONE: CREATED CLEAN FILES IN \", clean_dir)\n",
    "    print(\"==================================================\")\n",
    "\n",
    "# create_clean_title(main_dir=\"I:/github/Jocko-Podcast-Transcripts/captions/\", extension= \".vtt\")\n",
    "# create_clean_title(main_dir=\"I:/github/Jocko-Podcast-Transcripts/full_text/\", extension= \".txt\")"
   ]
  },
  {
   "attachments": {},
   "cell_type": "markdown",
   "metadata": {},
   "source": [
    "### Step 2.2: For captions: Take in renamed files from previous step and clean their contents up by removing empty spaces and make it into one single line for time and what was said\n",
    "from combine_lines_from combine_lines_from_cleaned.ipynb"
   ]
  },
  {
   "cell_type": "code",
   "execution_count": 3,
   "metadata": {},
   "outputs": [],
   "source": [
    "import glob\n",
    "import os\n",
    "\n",
    "dic = {}\n",
    "paths_to_files = \"./captions/clean/\"\n",
    "output_path = paths_to_files+\"lines_combined\"\n",
    "if not os.path.exists(output_path):\n",
    "    os.makedirs(output_path)\n",
    "\n",
    "for file_path in glob.glob(paths_to_files+\"*.vtt\"):\n",
    "    # get the episode number\n",
    "    file_number = file_path.split(\"/\")[-1].split(\"-\")[2]\n",
    "    # add file contents to a dict\n",
    "    with open(file_path) as f:\n",
    "        arr = []\n",
    "        for word in f.read().strip().split(\"\\n\\n\")[1:]:\n",
    "            arr.append(word.split(\"\\n\", 1)[1].replace(\"\\n\", \" \"))\n",
    "        ## add this to file with correct episode number\n",
    "        # text_file = open(output_path+\"/\"+file_number+\".txt\", \"w\")\n",
    "        # text_file.write(\"\\n\".join(arr))\n",
    "        # text_file.close()\n",
    "        # dic[file_number] = arr\n",
    "        "
   ]
  },
  {
   "attachments": {},
   "cell_type": "markdown",
   "metadata": {},
   "source": [
    "### Step 3: Create hyperlinks to each episode for the React website\n",
    "from create_hrefs.ipynb"
   ]
  },
  {
   "cell_type": "code",
   "execution_count": null,
   "metadata": {},
   "outputs": [],
   "source": [
    "import unicodedata\n",
    "import re\n",
    "import glob\n",
    "import shutil\n",
    "from slugify import slugify\n",
    "import os\n",
    "\n",
    "def create_hrefs(main_dir, extension=\".vtt\"):\n",
    "      arr = []\n",
    "      dic = {}\n",
    "      # iterate through all files with extension (.vtt)\n",
    "      for file_name in glob.glob(r'{}*{}'.format(main_dir, extension)):\n",
    "            # clean up the file name and also replace w -> with\n",
    "            new_file_name = slugify(file_name.split(\"\\\\\")[-1].split(\"/\")[-1].split(\".\")[0]).replace(\"-w-\", \"-with-\")\n",
    "            # get the episode number\n",
    "            ep_number = new_file_name.split(\"-\")[2]\n",
    "            # our new title which has been cleaned up\n",
    "            new_title = \"Jocko Podcast Episode #\" + ep_number+ \" - \" + \" \".join(new_file_name.split(\"-\")[3:])\n",
    "            # save a href link to a dictionary\n",
    "            dic[int(ep_number)] = \"<a href='episode/\"+ep_number+\"'>\"+new_title+\"</a>\"\n",
    "\n",
    "      # have to sort the dictionary since items are not in order\n",
    "      for k, v in dict(sorted(dic.items())).items():\n",
    "            # save href to array in correct order\n",
    "            arr.append(v)\n",
    "      # add this to a single file with all links to episodes\n",
    "      # text_file = open(\"./hrefs.txt\", \"w\")\n",
    "      # text_file.write(\"\\n\".join(arr))\n",
    "      # text_file.close()\n",
    "    \n",
    "create_hrefs(main_dir=\"./captions/\", extension= \".vtt\")"
   ]
  }
 ],
 "metadata": {
  "kernelspec": {
   "display_name": "base",
   "language": "python",
   "name": "python3"
  },
  "language_info": {
   "codemirror_mode": {
    "name": "ipython",
    "version": 3
   },
   "file_extension": ".py",
   "mimetype": "text/x-python",
   "name": "python",
   "nbconvert_exporter": "python",
   "pygments_lexer": "ipython3",
   "version": "3.9.13"
  },
  "orig_nbformat": 4,
  "vscode": {
   "interpreter": {
    "hash": "eb60acc68106785d00a40fb3b1b3b80d861e6f0b0d60f9d8440fa3d46ca2822c"
   }
  }
 },
 "nbformat": 4,
 "nbformat_minor": 2
}
