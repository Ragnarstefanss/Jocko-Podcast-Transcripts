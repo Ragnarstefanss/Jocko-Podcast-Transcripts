{
 "cells": [
  {
   "cell_type": "code",
   "execution_count": 22,
   "metadata": {},
   "outputs": [],
   "source": [
    "import unicodedata\n",
    "import re\n",
    "import glob\n",
    "import shutil\n",
    "from slugify import slugify\n",
    "import os\n",
    "\n",
    "def create_hrefs(main_dir, extension=\".vtt\"):\n",
    "      arr = []\n",
    "      dic = {}\n",
    "      # iterate through all files with extension (.vtt)\n",
    "      for file_name in glob.glob(r'{}*{}'.format(main_dir, extension)):\n",
    "            # clean up the file name and also replace w -> with\n",
    "            new_file_name = slugify(file_name.split(\"\\\\\")[-1].split(\"/\")[-1].split(\".\")[0]).replace(\"-w-\", \"-with-\")\n",
    "            # get the episode number\n",
    "            ep_number = new_file_name.split(\"-\")[2]\n",
    "            # our new title which has been cleaned up\n",
    "            new_title = \"Jocko Podcast Episode #\" + ep_number+ \" - \" + \" \".join(new_file_name.split(\"-\")[3:])\n",
    "            # save a href link to a dictionary\n",
    "            dic[int(ep_number)] = \"<a href='episode/\"+ep_number+\"'>\"+new_title+\"</a>\"\n",
    "\n",
    "      # have to sort the dictionary since items are not in order\n",
    "      for k, v in dict(sorted(dic.items())).items():\n",
    "            # save href to array in correct order\n",
    "            arr.append(v)\n",
    "      #to file\n",
    "      # text_file = open(\"./hrefs.txt\", \"w\")\n",
    "      # text_file.write(\"\\n\".join(arr))\n",
    "      # text_file.close()\n",
    "    \n",
    "create_hrefs(main_dir=\"./captions/\", extension= \".vtt\")"
   ]
  },
  {
   "cell_type": "code",
   "execution_count": null,
   "metadata": {},
   "outputs": [],
   "source": []
  }
 ],
 "metadata": {
  "kernelspec": {
   "display_name": "Deeplearning",
   "language": "python",
   "name": "tf_gpu"
  },
  "language_info": {
   "codemirror_mode": {
    "name": "ipython",
    "version": 3
   },
   "file_extension": ".py",
   "mimetype": "text/x-python",
   "name": "python",
   "nbconvert_exporter": "python",
   "pygments_lexer": "ipython3",
   "version": "3.9.13"
  },
  "orig_nbformat": 4
 },
 "nbformat": 4,
 "nbformat_minor": 2
}
