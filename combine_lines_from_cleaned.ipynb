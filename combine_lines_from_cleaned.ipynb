{
 "cells": [
  {
   "cell_type": "code",
   "execution_count": 19,
   "metadata": {},
   "outputs": [],
   "source": [
    "import glob\n",
    "import os\n",
    "\n",
    "dic = {}\n",
    "paths_to_files = \"./captions/clean/\"\n",
    "output_path = paths_to_files+\"lines_combined\"\n",
    "if not os.path.exists(output_path):\n",
    "    os.makedirs(output_path)\n",
    "\n",
    "for file_path in glob.glob(paths_to_files+\"*.vtt\"):\n",
    "    # get the episode number\n",
    "    file_number = file_path.split(\"/\")[-1].split(\"-\")[2]\n",
    "    # add file contents to a dict\n",
    "    with open(file_path) as f:\n",
    "        arr = []\n",
    "        for word in f.read().strip().split(\"\\n\\n\")[1:]:\n",
    "            arr.append(word.split(\"\\n\", 1)[1].replace(\"\\n\", \" \"))\n",
    "        #to file\n",
    "        # text_file = open(output_path+\"/\"+file_number+\".txt\", \"w\")\n",
    "        # text_file.write(\"\\n\".join(arr))\n",
    "        # text_file.close()\n",
    "\n",
    "        # dic[file_number] = arr\n",
    "        "
   ]
  },
  {
   "cell_type": "code",
   "execution_count": null,
   "metadata": {},
   "outputs": [],
   "source": []
  },
  {
   "cell_type": "code",
   "execution_count": 24,
   "metadata": {},
   "outputs": [],
   "source": [
    "# from youtube_dl import YoutubeDL\n",
    "\n",
    "# ydl = YoutubeDL()\n",
    "# url = 'https://www.youtube.com/playlist?list=PLIEQamvEuqUf8gQpt7TvK43Agb_y2iWwO'\n",
    "# r = ydl.extract_info(url, download=False)\n"
   ]
  },
  {
   "cell_type": "code",
   "execution_count": null,
   "metadata": {},
   "outputs": [],
   "source": []
  }
 ],
 "metadata": {
  "kernelspec": {
   "display_name": "base",
   "language": "python",
   "name": "python3"
  },
  "language_info": {
   "codemirror_mode": {
    "name": "ipython",
    "version": 3
   },
   "file_extension": ".py",
   "mimetype": "text/x-python",
   "name": "python",
   "nbconvert_exporter": "python",
   "pygments_lexer": "ipython3",
   "version": "3.9.13"
  },
  "orig_nbformat": 4,
  "vscode": {
   "interpreter": {
    "hash": "eb60acc68106785d00a40fb3b1b3b80d861e6f0b0d60f9d8440fa3d46ca2822c"
   }
  }
 },
 "nbformat": 4,
 "nbformat_minor": 2
}
